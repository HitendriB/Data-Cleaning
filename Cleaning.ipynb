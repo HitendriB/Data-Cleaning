{
 "cells": [
  {
   "cell_type": "code",
   "execution_count": 224,
   "metadata": {},
   "outputs": [],
   "source": [
    "import pandas as pd\n",
    "import re\n",
    "import numpy as np\n",
    "df1=pd.read_csv('Ref.csv')\n",
    "df2=pd.read_csv('Raw.csv')"
   ]
  },
  {
   "cell_type": "code",
   "execution_count": 206,
   "metadata": {},
   "outputs": [],
   "source": [
    "df3=df2[~df2.Name.str.contains('rs')]"
   ]
  },
  {
   "cell_type": "code",
   "execution_count": 207,
   "metadata": {},
   "outputs": [],
   "source": [
    "df4=pd.merge(df1, df3, on='Name')"
   ]
  },
  {
   "cell_type": "code",
   "execution_count": 208,
   "metadata": {},
   "outputs": [],
   "source": [
    "df4=df4[df4['RsID'] != '.']"
   ]
  },
  {
   "cell_type": "code",
   "execution_count": 209,
   "metadata": {},
   "outputs": [],
   "source": [
    "df4.drop(columns=['Name','Index'],axis=1,inplace=True)"
   ]
  },
  {
   "cell_type": "code",
   "execution_count": 210,
   "metadata": {},
   "outputs": [],
   "source": [
    "df4.rename(columns = {'RsID':'Name'}, inplace = True) "
   ]
  },
  {
   "cell_type": "code",
   "execution_count": 212,
   "metadata": {},
   "outputs": [],
   "source": [
    "df2.drop(columns=['Index'],axis=1,inplace=True)"
   ]
  },
  {
   "cell_type": "code",
   "execution_count": 213,
   "metadata": {},
   "outputs": [
    {
     "data": {
      "text/html": [
       "<div>\n",
       "<style scoped>\n",
       "    .dataframe tbody tr th:only-of-type {\n",
       "        vertical-align: middle;\n",
       "    }\n",
       "\n",
       "    .dataframe tbody tr th {\n",
       "        vertical-align: top;\n",
       "    }\n",
       "\n",
       "    .dataframe thead th {\n",
       "        text-align: right;\n",
       "    }\n",
       "</style>\n",
       "<table border=\"1\" class=\"dataframe\">\n",
       "  <thead>\n",
       "    <tr style=\"text-align: right;\">\n",
       "      <th></th>\n",
       "      <th>Name</th>\n",
       "      <th>SNP</th>\n",
       "      <th>Address</th>\n",
       "      <th>Chr</th>\n",
       "      <th>Position</th>\n",
       "    </tr>\n",
       "  </thead>\n",
       "  <tbody>\n",
       "    <tr>\n",
       "      <th>5240</th>\n",
       "      <td>BOT-rs10136766</td>\n",
       "      <td>[T/C]</td>\n",
       "      <td>64671953</td>\n",
       "      <td>14</td>\n",
       "      <td>106232585</td>\n",
       "    </tr>\n",
       "    <tr>\n",
       "      <th>5241</th>\n",
       "      <td>BOT-rs104894363</td>\n",
       "      <td>[T/C]</td>\n",
       "      <td>69797354</td>\n",
       "      <td>12</td>\n",
       "      <td>111356964</td>\n",
       "    </tr>\n",
       "    <tr>\n",
       "      <th>5242</th>\n",
       "      <td>BOT-rs10774624</td>\n",
       "      <td>[T/C]</td>\n",
       "      <td>49650981</td>\n",
       "      <td>12</td>\n",
       "      <td>111833788</td>\n",
       "    </tr>\n",
       "    <tr>\n",
       "      <th>5243</th>\n",
       "      <td>BOT-rs11216230</td>\n",
       "      <td>[T/C]</td>\n",
       "      <td>67648893</td>\n",
       "      <td>0</td>\n",
       "      <td>0</td>\n",
       "    </tr>\n",
       "    <tr>\n",
       "      <th>5244</th>\n",
       "      <td>BOT-rs1135675</td>\n",
       "      <td>[G/C]</td>\n",
       "      <td>89729304</td>\n",
       "      <td>0</td>\n",
       "      <td>0</td>\n",
       "    </tr>\n",
       "  </tbody>\n",
       "</table>\n",
       "</div>"
      ],
      "text/plain": [
       "                 Name    SNP   Address Chr   Position\n",
       "5240   BOT-rs10136766  [T/C]  64671953  14  106232585\n",
       "5241  BOT-rs104894363  [T/C]  69797354  12  111356964\n",
       "5242   BOT-rs10774624  [T/C]  49650981  12  111833788\n",
       "5243   BOT-rs11216230  [T/C]  67648893   0          0\n",
       "5244    BOT-rs1135675  [G/C]  89729304   0          0"
      ]
     },
     "execution_count": 213,
     "metadata": {},
     "output_type": "execute_result"
    }
   ],
   "source": [
    "df2=df2[df2['Name'].str.contains('rs')]\n",
    "df2.head()"
   ]
  },
  {
   "cell_type": "code",
   "execution_count": 214,
   "metadata": {},
   "outputs": [],
   "source": [
    "df2['Name']=df2['Name'].replace(['_'],'-',regex=True)"
   ]
  },
  {
   "cell_type": "code",
   "execution_count": 215,
   "metadata": {},
   "outputs": [],
   "source": [
    "df2['Name']=df2['Name'].replace(['new'],'new-',regex=True)"
   ]
  },
  {
   "cell_type": "code",
   "execution_count": 216,
   "metadata": {},
   "outputs": [],
   "source": [
    "df2['Name']=df2['Name'].replace(['RS'],'rs',regex=True)"
   ]
  },
  {
   "cell_type": "code",
   "execution_count": 217,
   "metadata": {},
   "outputs": [],
   "source": [
    "df2['Name']=df2['Name'].str.findall(r'\\brs\\d*\\b')"
   ]
  },
  {
   "cell_type": "code",
   "execution_count": 220,
   "metadata": {},
   "outputs": [],
   "source": [
    "df5=pd.concat([df4,df2],ignore_index=True)"
   ]
  },
  {
   "cell_type": "code",
   "execution_count": 221,
   "metadata": {},
   "outputs": [],
   "source": [
    "pd.DataFrame(df5).to_csv('abc.csv')"
   ]
  },
  {
   "cell_type": "code",
   "execution_count": null,
   "metadata": {},
   "outputs": [],
   "source": []
  }
 ],
 "metadata": {
  "kernelspec": {
   "display_name": "Python 3",
   "language": "python",
   "name": "python3"
  },
  "language_info": {
   "codemirror_mode": {
    "name": "ipython",
    "version": 3
   },
   "file_extension": ".py",
   "mimetype": "text/x-python",
   "name": "python",
   "nbconvert_exporter": "python",
   "pygments_lexer": "ipython3",
   "version": "3.6.5"
  }
 },
 "nbformat": 4,
 "nbformat_minor": 2
}
